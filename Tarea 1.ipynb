{
 "cells": [
  {
   "cell_type": "markdown",
   "metadata": {},
   "source": [
    "## Sebastián Rodríguez, 20003076\n",
    "\n",
    "\n",
    "#  TAREA 1: GIT y control de versiones \n",
    "\n",
    "\n",
    " Las ideas principales que pude obtener del video fueron las siguientes:\n",
    "      - El control de versiones para GIT tiene una forma diferente al estándar de árbol que siempre manejamos.\n",
    "      - Tengo la opción de rastrear el desarrollo y cambios en mis documentos.\n",
    "      - Puedo experimentar entre distintos documentos al mismo tiempo que conservo mi documento antiguo.\n",
    "      - Basicamente tengo objetos y referencias para manejar mis definiciones dentro del notebook. \n",
    "      \n",
    "\n",
    "## Comandos básicos para utilizar en GIT:\n",
    "      \n",
    "      "
   ]
  },
  {
   "cell_type": "markdown",
   "metadata": {},
   "source": [
    "git init: Solicitar a Git que se encuentre pendiente de los cambios producidos en la carpeta en donde esté nuestro archivo.\n",
    "\n",
    "git status: Guardar cambios con git. Imprime archivos que serán guardados\n",
    "\n",
    "git add: Se añaden todos los archivos que aparecían antes para guardarse.\n"
   ]
  },
  {
   "cell_type": "code",
   "execution_count": null,
   "metadata": {},
   "outputs": [],
   "source": [
    "git add MisArchivos"
   ]
  },
  {
   "cell_type": "markdown",
   "metadata": {},
   "source": [
    "git rm: elimina los archivos que recien añadimos\n",
    "\n",
    "git commit -m \"texto\": Se realiza un guardado con un mensaje en donde se encuentra texto.\n",
    "\n",
    "git log: Podemos imprimir los commit que hemos hecho.\n",
    "\n",
    "git diff: Muestra los cambios que hemos hecho desde el ultimo commit.\n",
    "\n",
    "###### NOTA: diferenciar bien entre log y diff."
   ]
  },
  {
   "cell_type": "markdown",
   "metadata": {},
   "source": [
    "# Administración de proyectos en GIT\n",
    "\n",
    "git clone git o https:// : Podemos descargar un proyecto para empezar a modificarlo.\n",
    "\n",
    "git pull: Obtenemos del repositorio.\n",
    "\n",
    "git push: Subimos al repositorio.\n",
    "\n",
    "git remote add: Podemos añadir direcciones a un repositorio original."
   ]
  },
  {
   "cell_type": "markdown",
   "metadata": {},
   "source": [
    "# Ramificación en GIT\n",
    "\n",
    "git push origin \"Clase\": Es para subir al repositorio origen.\n",
    "\n",
    "git checkout \"Rama\": Nos posicionamos en una rama.\n",
    "\n",
    "git checkout -b \"Rama nueva\": Creamos una rama nueva. \n",
    "\n",
    "git merge \"rama vieja\": Combinación de ramas.\n",
    "\n",
    "git brach: Para ver la ubicación de en que rama estoy."
   ]
  },
  {
   "cell_type": "markdown",
   "metadata": {},
   "source": [
    "# Ejemplo propio"
   ]
  },
  {
   "cell_type": "code",
   "execution_count": null,
   "metadata": {},
   "outputs": [],
   "source": [
    "git config-global user name \"Sebastian Rodriguez\"\n",
    "git config--global user email \"jsebastianr92@gmail.com\"\n",
    "\n",
    "git config -- list\n",
    "\n",
    "// Esto anterior debería mostrarme esa configuración de nombre e e-mail\n",
    "\n",
    "cd Desktop/RepoGal/ //Dirigirme a la carpeta en donde tengo mi repositorio\n",
    "git init //inicializar el repositorio \n",
    "echo \"#Ejemplo tarea 1\"// No debería devolver nada\n",
    "git status // Nos brinda el estado del proyecto\n",
    "\n",
    "\n",
    "git add pruebatarea1.md //Seguimiento a mi archivo.\n",
    "\n",
    "git commit-m \"hola mundo\"//hago mi primer envio al repositorio.\n",
    "\n",
    "git push origin master // envio el contenido a la rama principal."
   ]
  }
 ],
 "metadata": {
  "kernelspec": {
   "display_name": "Python 3",
   "language": "python",
   "name": "python3"
  },
  "language_info": {
   "codemirror_mode": {
    "name": "ipython",
    "version": 3
   },
   "file_extension": ".py",
   "mimetype": "text/x-python",
   "name": "python",
   "nbconvert_exporter": "python",
   "pygments_lexer": "ipython3",
   "version": "3.7.4"
  }
 },
 "nbformat": 4,
 "nbformat_minor": 2
}
